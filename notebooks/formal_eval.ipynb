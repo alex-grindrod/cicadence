{
 "cells": [
  {
   "attachments": {},
   "cell_type": "markdown",
   "metadata": {},
   "source": [
    "# Evaluate PESQ Score and Average SNR on Test Dataset"
   ]
  },
  {
   "cell_type": "code",
   "execution_count": 5,
   "metadata": {},
   "outputs": [],
   "source": [
    "import sys\n",
    "import os\n",
    "sys.path.append(\"../\")\n",
    "\n",
    "if \"notebook\" in os.getcwd():\n",
    "    os.chdir(\"../\")"
   ]
  },
  {
   "cell_type": "code",
   "execution_count": 6,
   "metadata": {},
   "outputs": [
    {
     "name": "stdout",
     "output_type": "stream",
     "text": [
      "ENCODERS: 5\n",
      "S and K [1, 14, 27, 45, 84, 164], [7, 7, 7, 7, 7]\n"
     ]
    }
   ],
   "source": [
    "import torch\n",
    "from pesq import pesq\n",
    "from scipy.signal import resample\n",
    "from torchmetrics.functional import signal_noise_ratio\n",
    "from torch.utils.data import DataLoader, random_split\n",
    "import numpy as np\n",
    "from tqdm import tqdm\n",
    "\n",
    "\n",
    "from src.models.waveform.cicada_clean_unet_att import CicadaCleanUNetModel\n",
    "from src.models.waveform.cicada_unet_att import CicadaUNetAttModel\n",
    "from src.models.waveform.cicada_unet import CicadaUNetModel\n",
    "from src.data.waveform_data import WaveformDataset\n",
    "\n",
    "torch.manual_seed(42)\n",
    "device = torch.device(\"cuda\" if torch.cuda.is_available() else \"cpu\")\n",
    "\n",
    "MODEL_CKPT = \"ckpts/cicadence_unet_final.pt\"\n",
    "model = CicadaUNetModel()\n",
    "model.load_state_dict(torch.load(MODEL_CKPT, map_location=device))\n",
    "model.eval()\n",
    "\n",
    "NOISY_WAVE_PATH = \"data/processed/28spk/combined_noisy_waves.pt\"\n",
    "CLEAN_WAVE_PATH = \"data/processed/28spk/combined_clean_waves.pt\"\n",
    "SR = 48000\n",
    "\n",
    "# Ensure correct device\n",
    "model.to(device)\n",
    "batch_size = 32\n",
    "\n",
    "total_pesq = 0.0\n",
    "total_snr = 0.0\n",
    "num_samples = 0\n"
   ]
  },
  {
   "cell_type": "code",
   "execution_count": 7,
   "metadata": {},
   "outputs": [
    {
     "name": "stdout",
     "output_type": "stream",
     "text": [
      "Train: 4952, Val: 928, Test: 310\n"
     ]
    }
   ],
   "source": [
    "data = WaveformDataset(NOISY_WAVE_PATH, CLEAN_WAVE_PATH)\n",
    "\n",
    "train_size = int(0.8 * len(data))\n",
    "val_size = int(0.15 * len(data))\n",
    "test_size = len(data) - train_size - val_size  # Ensure all samples are used\n",
    "\n",
    "train_set, val_set, test_set = random_split(data, [train_size, val_size, test_size])\n",
    "print(f\"Train: {len(train_set)}, Val: {len(val_set)}, Test: {len(test_set)}\")\n",
    "\n",
    "\n",
    "train_loader = DataLoader(train_set, batch_size=batch_size, shuffle=True)\n",
    "val_loader = DataLoader(val_set, batch_size=batch_size, shuffle=False)\n",
    "test_loader = DataLoader(test_set, batch_size=batch_size, shuffle=False)"
   ]
  },
  {
   "cell_type": "code",
   "execution_count": 8,
   "metadata": {},
   "outputs": [
    {
     "name": "stdout",
     "output_type": "stream",
     "text": [
      "Evaluating SNR and PESQ: \n"
     ]
    },
    {
     "name": "stderr",
     "output_type": "stream",
     "text": [
      "  0%|          | 0/10 [00:00<?, ?it/s]/Library/Frameworks/Python.framework/Versions/3.8/lib/python3.8/site-packages/torchmetrics/utilities/prints.py:70: FutureWarning: Importing `signal_noise_ratio` from `torchmetrics.functional` was deprecated and will be removed in 2.0. Import `signal_noise_ratio` from `torchmetrics.audio` instead.\n",
      "  _future_warning(\n",
      "100%|██████████| 10/10 [04:13<00:00, 25.32s/it]"
     ]
    },
    {
     "name": "stdout",
     "output_type": "stream",
     "text": [
      "Model Type: CicadaUNetModel\n",
      "Average PESQ: 1.449\n",
      "Average SNR: 9.633 dB\n"
     ]
    },
    {
     "name": "stderr",
     "output_type": "stream",
     "text": [
      "\n"
     ]
    }
   ],
   "source": [
    "with torch.no_grad():\n",
    "    print(\"Evaluating SNR and PESQ: \")\n",
    "    for noisy, clean in tqdm(test_loader):\n",
    "        noisy = noisy.to(device)\n",
    "        clean = clean.to(device)\n",
    "\n",
    "        output = model(noisy)\n",
    "        output_np = output.cpu().numpy()\n",
    "        clean_np = clean.cpu().numpy()\n",
    "\n",
    "        for est, ref in zip(output_np, clean_np):\n",
    "            est = est.squeeze()\n",
    "            ref = ref.squeeze()\n",
    "\n",
    "            min_len = min(len(est), len(ref))\n",
    "            est = est[:min_len]\n",
    "            ref = ref[:min_len]\n",
    "            \n",
    "            est_pesq = resample(est, int(len(est) * 16000 / SR))\n",
    "            ref_pesq = resample(ref, int(len(ref) * 16000 / SR))\n",
    "\n",
    "            pesq_score = pesq(16000, ref_pesq, est_pesq, 'wb') #Wide band PESQ needs 16KHz data\n",
    "            snr_score = signal_noise_ratio(torch.tensor(est), torch.tensor(ref)).item()\n",
    "\n",
    "            total_pesq += pesq_score\n",
    "            total_snr += snr_score\n",
    "            num_samples += 1\n",
    "\n",
    "# Calculate averages\n",
    "avg_pesq = total_pesq / num_samples\n",
    "avg_snr = total_snr / num_samples\n",
    "\n",
    "print(f\"Model Type: {model.__class__.__name__}\")  \n",
    "print(f\"Average PESQ: {avg_pesq:.3f}\")\n",
    "print(f\"Average SNR: {avg_snr:.3f} dB\")\n"
   ]
  }
 ],
 "metadata": {
  "kernelspec": {
   "display_name": "ActualAudioENV",
   "language": "python",
   "name": "audioenv"
  },
  "language_info": {
   "codemirror_mode": {
    "name": "ipython",
    "version": 3
   },
   "file_extension": ".py",
   "mimetype": "text/x-python",
   "name": "python",
   "nbconvert_exporter": "python",
   "pygments_lexer": "ipython3",
   "version": "3.8.10"
  },
  "orig_nbformat": 4
 },
 "nbformat": 4,
 "nbformat_minor": 2
}
